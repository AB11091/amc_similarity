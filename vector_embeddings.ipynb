{
 "cells": [
  {
   "cell_type": "code",
   "execution_count": 1,
   "metadata": {},
   "outputs": [
    {
     "name": "stdout",
     "output_type": "stream",
     "text": [
      "* Database: amc_aime_similarity\n",
      "\n"
     ]
    }
   ],
   "source": [
    "import os\n",
    "from dotenv import load_dotenv\n",
    "from astrapy import DataAPIClient\n",
    "from astrapy.constants import VectorMetric\n",
    "from astrapy.ids import UUID\n",
    "from astrapy.exceptions import InsertManyException\n",
    "\n",
    "load_dotenv()\n",
    "# Initialize the client and get a \"Database\" object\n",
    "client = DataAPIClient(os.getenv(\"ASTRA_DB_APPLICATION_TOKEN\"))\n",
    "database = client.get_database(os.getenv(\"ASTRA_DB_API_ENDPOINT\"))\n",
    "print(f\"* Database: {database.info().name}\\n\")"
   ]
  },
  {
   "cell_type": "code",
   "execution_count": 39,
   "metadata": {},
   "outputs": [
    {
     "name": "stdout",
     "output_type": "stream",
     "text": [
      "* Collection: default_keyspace.amc_similarity_full_size\n",
      "\n"
     ]
    }
   ],
   "source": [
    "collection = database.create_collection(\n",
    "    \"amc_similarity_full_size\", \n",
    "    dimension=384,\n",
    "    metric=VectorMetric.COSINE,\n",
    "    check_exists=False,\n",
    ")\n",
    "\n",
    "\n",
    "print(f\"* Collection: {collection.full_name}\\n\")"
   ]
  },
  {
   "cell_type": "code",
   "execution_count": 2,
   "metadata": {},
   "outputs": [
    {
     "name": "stderr",
     "output_type": "stream",
     "text": [
      "c:\\Users\\adity\\cs_projects\\test_dotenv\\.venv\\lib\\site-packages\\sentence_transformers\\cross_encoder\\CrossEncoder.py:11: TqdmWarning: IProgress not found. Please update jupyter and ipywidgets. See https://ipywidgets.readthedocs.io/en/stable/user_install.html\n",
      "  from tqdm.autonotebook import tqdm, trange\n"
     ]
    },
    {
     "name": "stdout",
     "output_type": "stream",
     "text": [
      "(699, 384)\n"
     ]
    }
   ],
   "source": [
    "import pandas as pd\n",
    "from sentence_transformers import SentenceTransformer\n",
    "\n",
    "model = SentenceTransformer(\"all-MiniLM-L6-v2\")\n",
    "df = pd.read_csv('AMC12_data.csv')\n",
    "solutions = df['Solution']\n",
    "embeddings = model.encode(solutions)\n",
    "print(embeddings.shape)\n",
    "\n"
   ]
  },
  {
   "cell_type": "code",
   "execution_count": 40,
   "metadata": {},
   "outputs": [
    {
     "name": "stdout",
     "output_type": "stream",
     "text": [
      "length: 685\n"
     ]
    }
   ],
   "source": [
    "to_insert = []\n",
    "\n",
    "df['$vector'] = None\n",
    "for i in range(len(df)):\n",
    "    if pd.isna(df['Solution'][i]):\n",
    "        continue\n",
    "    to_insert.append(\n",
    "        {\n",
    "            \"Contest\": str(df['Contest'][i]), \n",
    "            \"Year\": int(df['Year'][i]),\n",
    "            \"Number\": int(df['Number'][i]),\n",
    "            \"Link\": str(df['Link'][i]), \n",
    "            \"Problem\": str(df['Problem'][i]), \n",
    "            \"Solution\": str(df['Solution'][i])[:1000],\n",
    "            \"$vector\": embeddings[i],\n",
    "        }\n",
    "    )\n",
    "\n",
    "    collection.insert_one(to_insert[-1])\n",
    "\n",
    "print(\"length:\", str(len(to_insert)))\n",
    "# try:\n",
    "#     insertion_result = collection.insert_many(to_insert)\n",
    "# except InsertManyException:\n",
    "#     print(\"* Documents found on DB already. Let's move on.\\n\")\n",
    "\n",
    "    "
   ]
  },
  {
   "cell_type": "code",
   "execution_count": 12,
   "metadata": {},
   "outputs": [
    {
     "name": "stdout",
     "output_type": "stream",
     "text": [
      "Vector search results:\n",
      "0: {'_id': 'ffdfe1e7-cd5b-424b-9fe1-e7cd5b224b99', 'Contest': 'AMC12A', 'Year': 2012, 'Number': 9, 'Link': 'https://artofproblemsolving.com/wiki/index.php/2012_AMC_12A_Problems/Problem_9', 'Problem': ' A year is a leap year if and only if the year number is divisible by 400 (such as 2000) or is divisible by 4 but not 100 (such as 2012).  The 200th anniversary of the birth of novelist Charles Dickens was celebrated on February 7, 2012, a Tuesday.  On what day of the week was Dickens born?', 'Solution': ' In this solution we refer to moving to the left as decreasing the year or date number and moving to the right as  increasing the year or date number. Every non-leap year we move to the right results in moving one day to the right because $365\\\\equiv 1\\\\pmod 7$ .  Every leap year we move to the right results in moving $2$ days to the right since $366\\\\equiv 2\\\\pmod 7$ . A leap year is usually every four years, so 200 years would have $\\\\frac{200}{4}$ = $50$ leap years, but the problem says that 1900 does not count as a leap year. Therefore there would be 151 regular years and 49 leap years, so $1(151)+2(49)$ = $249$ days back.  Since $249 \\\\equiv 4\\\\ (\\\\text{mod}\\\\ 7)$ , four days back from Tuesday would be $\\\\boxed{\\\\textbf{(A)}\\\\ \\\\text{Friday}}$ . Since they say that February $7$ th, $2012$ is the $200$ th anniversary of Charles dickens birthday, that means that the birth of Charles Dickens is on February $7$ th, $1812$ . We then see that there is a leap year on $1812, 1816, ...., 2008$ but we must excluse $1900$ which equates to $49$ leap years. So, the amount of days we have to go back is $200(365) + 49$ days which in $\\\\text{mod }7$ gives us 4. Thus, $4$ days back from Tuesday is $\\\\boxed{\\\\textbf{(A)}\\\\ \\\\text{Friday}}$ .'}\n",
      "1: {'_id': '3c14807a-f3e1-42ef-9480-7af3e1e2ef4c', 'Contest': 'AMC12B', 'Year': 2005, 'Number': 10, 'Link': 'https://artofproblemsolving.com/wiki/index.php/2005_AMC_12B_Problems/Problem_10', 'Problem': ' The first term of a sequence is $2005$ . Each succeeding term is the sum of the cubes of the digits of the previous term. What is the ${2005}^{\\\\text{th}}$ term of the sequence?', 'Solution': \" Performing this operation several times yields the results of $133$ for the second term, $55$ for the third term, and $250$ for the fourth term. The sum of the cubes of the digits of $250$ equal $133$ , a complete cycle. The cycle is, excluding the first term, the $2^{\\\\text{nd}}$ , $3^{\\\\text{rd}}$ , and $4^{\\\\text{th}}$ terms will equal $133$ , $55$ , and $250$ , following the fourth term. Any term number that is equivalent to $1\\\\ (\\\\text{mod}\\\\ 3)$ will produce a result of $250$ . It just so happens that $2005\\\\equiv 1\\\\ (\\\\text{mod}\\\\ 3)$ , which leads us to the answer of $\\\\boxed{\\\\textbf{(E) } 250}$ .   2005 AMC 10B ( Problems • Answer Key • Resources )   Preceded\\xa0by Problem 10   Followed\\xa0by Problem 12    1  •  2  •  3  •  4  •  5  •  6  •  7  •  8  •  9  •  10  •  11  •  12  •  13  •  14  •  15  •  16  •  17  •  18  •  19  •  20  •  21  •  22  •  23  •  24  •  25    All AMC 10 Problems and Solutions    2005 AMC 12B ( Problems • Answer Key • Resources )   Preceded\\xa0by Problem 9   Followed\\xa0by Problem 11    1  •  2  •  3  •  4  •  5  •  6  •  7  •  8  •  9  •  10  •  11  •  12  •  13  •  14  •  15  •  16  •  17  •  18  •  19  •  20  •  21  •  22  •  23  •  24  •  25    All AMC 12 Problems and Solutions  The problems on this page are copyrighted by the Mathematical Association of America 's American Mathematics Competitions . AMC logo.png \"}\n",
      "2: {'_id': '5121c136-1219-4efc-a1c1-3612195efc23', 'Contest': 'AMC12A', 'Year': 2006, 'Number': 3, 'Link': 'https://artofproblemsolving.com/wiki/index.php/2006_AMC_12A_Problems/Problem_3', 'Problem': \" The ratio of Mary's age to Alice's age is $3:5$ . Alice is $30$ years old. How old is Mary?\", 'Solution': \" Let $m$ be Mary's age. Then $\\\\frac{m}{30}=\\\\frac{3}{5}$ . Solving for $m$ , we obtain $m=\\\\boxed{\\\\textbf{(B) }18}.$  We can see this is a combined ratio of $8$ , $(5+3)$ . We can equalize by doing $30\\\\div5=6$ , and $6\\\\cdot3=\\\\boxed{\\\\textbf{(B) }18}$ . With the common ratio of $8$ and difference ratio of $6$ , we see $6\\\\cdot8=30+18$ . Therefore, we can see our answer is correct.   2006 AMC 12A ( Problems • Answer Key • Resources )   Preceded\\xa0by Problem 2   Followed\\xa0by Problem 4    1  •  2  •  3  •  4  •  5  •  6  •  7  •  8  •  9  •  10  •  11  •  12  •  13  •  14  •  15  •  16  •  17  •  18  •  19  •  20  •  21  •  22  •  23  •  24  •  25    All AMC 12 Problems and Solutions    2006 AMC 10A ( Problems • Answer Key • Resources )   Preceded\\xa0by Problem 2   Followed\\xa0by Problem 4    1  •  2  •  3  •  4  •  5  •  6  •  7  •  8  •  9  •  10  •  11  •  12  •  13  •  14  •  15  •  16  •  17  •  18  •  19  •  20  •  21  •  22  •  23  •  24  •  25    All AMC 10 Problems and Solutions  The problems on this page are copyrighted by the Mathematical Association of America 's American Mathematics Competitions . AMC logo.png \"}\n",
      "3: {'_id': '50dd2259-f26d-4b87-9d22-59f26d7b872d', 'Contest': 'AMC12A', 'Year': 2012, 'Number': 20, 'Link': 'https://artofproblemsolving.com/wiki/index.php/2012_AMC_12A_Problems/Problem_20', 'Problem': ' Consider the polynomial \\\\[P(x)=\\\\prod_{k=0}^{10}(x^{2^k}+2^k)=(x+1)(x^2+2)(x^4+4)\\\\cdots (x^{1024}+1024)\\\\]  The coefficient of $x^{2012}$ is equal to $2^a$ . What is $a$ ?', 'Solution': ' Every term in the expansion of the product is formed by taking one term from each factor and multiplying them all together. Therefore, we pick a power of $x$ or a power of $2$ from each factor. Every number, including $2012$ , has a unique representation by the sum of powers of two, and that representation can be found by converting a number to its binary form. $2012 = 11111011100_2$ , meaning $2012 = 1024 + 512 + 256 + 128 + 64 + 16 + 8 + 4$ . Thus, the $x^{2012}$ term was made by multiplying $x^{1024}$ from the $(x^{1024} + 1024)$ factor, $x^{512}$ from the $(x^{512} + 512)$ factor, and so on. The only numbers not used are $32$ , $2$ , and $1$ . Thus, from the $(x^{32} + 32), (x^2+2), (x+1)$ factors, $32$ , $2$ , and $1$ were chosen as opposed to $x^{32}, x^2$ , and $x$ . Thus, the coefficient of the $x^{2012}$ term is $32 \\\\times 2 \\\\times 1 = 64 = 2^6$ . So the answer is $6 \\\\rightarrow \\\\boxed{B}$ . The degree of $P(x)$ is $1024+512+256+\\\\cdots+1=2047$ . We want to find the coefficient of $x^{2012}$ , so we need to omit the powers of $2$ that add up to $2047-2012=35$ . We find that $35=2^0+2^1+2^5$ . From here, we know that the answer is $2^0\\\\cdot2^1\\\\cdot2^5=2^6$ . Therefore, the answer is $\\\\boxed{(B)\\\\:6.}$ '}\n",
      "4: {'_id': 'bc3ce72c-7e49-469e-bce7-2c7e49769e4a', 'Contest': 'AMC12B', 'Year': 2012, 'Number': 5, 'Link': 'https://artofproblemsolving.com/wiki/index.php/2012_AMC_12B_Problems/Problem_5', 'Problem': ' Two integers have a sum of $26$ . when two more integers are added to the first two, the sum is $41$ . Finally, when two more integers are added to the sum of the previous $4$ integers, the sum is $57$ . What is the minimum number of even integers among the $6$ integers?', 'Solution': ' Since, $x + y = 26$ , $x$ can equal $15$ , and $y$ can equal $11$ , so no even integers are required to make 26. To get to $41$ , we have to add $41 - 26 = 15$ . If $a+b=15$ , at least one of $a$ and $b$ must be even because two odd numbers sum to an even number. Therefore, one even integer is required when transitioning from $26$ to $41$ . Finally, we have the last transition is $57-41=16$ . If $m+n=16$ , $m$ and $n$ can both be odd because two odd numbers sum to an even number, meaning only $1$ even integer is required. The answer is $\\\\boxed{\\\\textbf{(A)}}$ . ~Extremelysupercooldude (Latex, grammar, and solution edits) Just worded and formatted a little differently than above. The first two integers sum up to $26$ . Since $26$ is even, in order to minimize the number of even integers, we make both of the first two odd. The second two integers sum up to $41-26=15$ . Since $15$ is odd, we must have at least one even integer in these next two. Finally, $57-41=16$ , and once again, $16$ is an even number so both of these integers can be odd. Therefore, we have a total of one even integer and our answer is $\\\\boxed{\\\\textbf{(A)}}$ .'}\n",
      "5: {'_id': 'dbafd20b-6eac-48d4-afd2-0b6eace8d4d5', 'Contest': 'AMC12B', 'Year': 2003, 'Number': 8, 'Link': 'https://artofproblemsolving.com/wiki/index.php/2003_AMC_12B_Problems/Problem_8', 'Problem': ' Let $\\\\clubsuit(x)$ denote the sum of the digits of the positive integer $x$ . For example, $\\\\clubsuit(8)=8$ and $\\\\clubsuit(123)=1+2+3=6$ . For how many two-digit values of $x$ is $\\\\clubsuit(\\\\clubsuit(x))=3$ ?', 'Solution': ' Let $y=\\\\clubsuit (x)$ . Since $x \\\\leq 99$ , we have $y \\\\leq 18$ . Thus if $\\\\clubsuit (y)=3$ , then $y=3$ or $y=12$ . The 3 values of $x$ for which $\\\\clubsuit (x)=3$ are 12, 21, and 30, and the 7 values of $x$ for which $\\\\clubsuit (x)=12$ are 39, 48, 57, 66, 75, 84, and 93. There are $\\\\boxed{E=10}$ values in all.'}\n",
      "6: {'_id': 'f3411831-3520-4332-8118-31352013327e', 'Contest': 'AMC12A', 'Year': 2006, 'Number': 4, 'Link': 'https://artofproblemsolving.com/wiki/index.php/2006_AMC_12A_Problems/Problem_4', 'Problem': ' A digital watch displays hours and minutes with AM and PM. What is the largest possible sum of the digits in the display?', 'Solution': \" From the greedy algorithm , we have $9$ in the hours section and $59$ in the minutes section. $9+5+9=\\\\boxed{\\\\textbf{(E) }23}$  With a matrix, we can see $\\\\begin{bmatrix} 1+2&9&6&3\\\\\\\\ 1+1&8&5&2\\\\\\\\ 1+0&7&4&1 \\\\end{bmatrix}$ The largest single digit sum we can get is $9$ .\\nFor the minutes digits, we can combine the largest $2$ digits, which are $9,5 \\\\Rightarrow 9+5=14$ , and finally $14+9=\\\\boxed{\\\\textbf{(E) }23}$  We first note that since the watch displays time in AM and PM, the value for the hours section varies from $00-12$ . Therefore, the maximum value of the digits for the hours is when the watch displays $09$ , which gives us $0+9=9$ . Next, we look at the value of the minutes section, which varies from $00-59$ . Let this value be a number $ab$ . We quickly find that the maximum value for $a$ and $b$ is respectively $5$ and $9$ . Adding these up, we get $9+5+9=\\\\boxed{\\\\textbf{(E) }23}$ . ~ Dairyqueenxd    2006 AMC 12A ( Problems • Answer Key • Resources )   Preceded\\xa0by Problem 3   Followed\\xa0by Problem 5    1  •  2  •  3  •  4  •  5  •  6  •  7  •  8  •  9  •  10  •  11  •  12  •  13  •  14  •  15  •  16  •  17  •  18  •  19  •  20  •  21  •  22  •  23  •  24  •  25    All AMC 12 Problems and Solutions    2006 AMC 10A ( Problems • Answer Key • Resources )   Preceded\\xa0by Problem 3   Followed\\xa0by Problem 5    1  •  2  •  3  •  4  •  5  •  6  •  7  •  8  •  9  •  10  •  11  •  12  •  13  •  14  •  15  •  16  •  17  •  18  •  19  •  20  •  21  •  22  •  23  •  24  •  25    All AMC 10 Problems and Solutions  The problems on this page are copyrighted by the Mathematical Association of America 's American Mathematics Competitions . AMC logo.png \"}\n",
      "7: {'_id': 'f519cf44-2963-4bca-99cf-442963bbcae2', 'Contest': 'AMC12A', 'Year': 2012, 'Number': 7, 'Link': 'https://artofproblemsolving.com/wiki/index.php/2012_AMC_12A_Problems/Problem_7', 'Problem': ' Mary divides a circle into 12 sectors. The central angles of these sectors, measured in degrees, are all integers and they form an arithmetic sequence. What is the degree measure of the smallest possible sector angle?', 'Solution': ' Let $a_1$ be the first term of the arithmetic progression and $a_{12}$ be the last term of the arithmetic progression. From the formula of the sum of an arithmetic progression (or arithmetic series), we have $12*\\\\frac{a_1+a_{12}}{2}=360$ , which leads us to $a_1 + a_{12} = 60$ . $a_{12}$ , the largest term of the progression, can also be expressed as $a_1+11d$ , where $d$ is the common difference. Since each angle measure must be an integer, $d$ must also be an integer. We can isolate $d$ by subtracting $a_1$ from $a_{12}$ like so: $a_{12}-a_1=a_1+11d-a_1=11d$ . Since $d$ is an integer, the difference between the first and last terms, $11d$ , must be divisible by $11.$ Since the total difference must be less than $60$ , we can start checking multiples of $11$ less than $60$ for the total difference between $a_1$ and $a_{12}$ . We start with the largest multiple, because the maximum difference will result in the minimum value of the first term. If  the difference is $55$ , $a_1=\\\\frac{60-55}{2}=2.5$ , which is not an integer, nor is it one of the five options given. If the difference is $44$ , $a_1=\\\\frac{60-44}{2}$ , or $\\\\boxed{\\\\textbf{(C)}\\\\ 8}$  -Solution by Rhiju If we let $a$ be the smallest sector angle and $r$ be the difference between consecutive sector angles, then we have the angles $a, a+r, a+2r, \\\\cdots. a+11r$ . Use the formula for the sum of an arithmetic sequence and set it equal to 360, the number of degrees in a circle. \\\\begin{align*} \\\\frac{a+a+11r}{2}\\\\cdot 12 &= 360\\\\\\\\ 2a+11r &= 60\\\\\\\\ a &= \\\\frac{60-11r}{2} \\\\end{align*}  All sector angles are integers so $r$ must be a multiple of 2. Plug in even integers for $r$ starting from 2 to minimize $a.$ We find this value to be 4 and the minimum value of $a$ to be $\\\\frac{60-11(4)}{2} = \\\\boxed{\\\\textbf{(C)}\\\\ 8}$  Starting with the smallest term, $a - 5x \\\\cdots a, a + x \\\\cdots a + 6x$ where $a$ is the sixth term and $x$ is the difference. The sum becomes $12a + 6x = 360$ since there are $360$ degrees in the central angle of the circle. The only condition left is that the smallest term in greater than zero. Therefore, $a - 5x > 0$ . \\\\[2a + x = 60\\\\]  \\\\[x = 60 - 2a\\\\]  \\\\[a - 5(60 - 2a) > 0\\\\]  \\\\[11a > 300\\\\] Since $a$ is an integer, it must be $28$ , and therefore, $x$ is $4$ . $a - 5x$ is $\\\\boxed{\\\\textbf{(C)}\\\\ 8}$  https://youtu.be/1FyU20KeEKU  ~Education, the Study of Everything'}\n",
      "8: {'_id': '27106f57-c410-420c-906f-57c410720c4a', 'Contest': 'AMC12A', 'Year': 2006, 'Number': 10, 'Link': 'https://artofproblemsolving.com/wiki/index.php/2006_AMC_12A_Problems/Problem_10', 'Problem': ' For how many real values of $x$ is $\\\\sqrt{120-\\\\sqrt{x}}$ an integer?', 'Solution': \" For $\\\\sqrt{120-\\\\sqrt{x}}$ to be an integer, $120-\\\\sqrt{x}$ must be a perfect square. Since $\\\\sqrt{x}$ can't be negative, $120-\\\\sqrt{x} \\\\leq 120$ . The perfect squares that are less than or equal to $120$ are $\\\\{0,1,4,9,16,25,36,49,64,81,100\\\\}$ , so there are $11$ values for $120-\\\\sqrt{x}$ . Since every value of $120-\\\\sqrt{x}$ gives one and only one possible value for $x$ , the number of values of $x$ is $\\\\boxed{\\\\textbf{(E) }11}$ .   2006 AMC 12A ( Problems • Answer Key • Resources )   Preceded\\xa0by Problem 9   Followed\\xa0by Problem 11    1  •  2  •  3  •  4  •  5  •  6  •  7  •  8  •  9  •  10  •  11  •  12  •  13  •  14  •  15  •  16  •  17  •  18  •  19  •  20  •  21  •  22  •  23  •  24  •  25    All AMC 12 Problems and Solutions    2006 AMC 10A ( Problems • Answer Key • Resources )   Preceded\\xa0by Problem 9   Followed\\xa0by Problem 11    1  •  2  •  3  •  4  •  5  •  6  •  7  •  8  •  9  •  10  •  11  •  12  •  13  •  14  •  15  •  16  •  17  •  18  •  19  •  20  •  21  •  22  •  23  •  24  •  25    All AMC 10 Problems and Solutions  The problems on this page are copyrighted by the Mathematical Association of America 's American Mathematics Competitions . AMC logo.png \"}\n",
      "9: {'_id': 'b11f9657-d429-49d3-9f96-57d429c9d3b1', 'Contest': 'AMC12B', 'Year': 2012, 'Number': 12, 'Link': 'https://artofproblemsolving.com/wiki/index.php/2012_AMC_12B_Problems/Problem_12', 'Problem': ' How many sequences of zeros and ones of length 20 have all the zeros consecutive, or all the ones consecutive, or both?', 'Solution': \" Solution 1 There are $\\\\binom{20}{2}$ selections; however, we count these twice, therefore $2\\\\cdot\\\\binom{20}{2} = \\\\boxed{\\\\textbf{(D)}\\\\ 380}$ . The wording of the question implies D, not E. However, MAA decided to accept both D and E. Solution 2 Consider the 20 term sequence of $0$ 's and $1$ 's.  Keeping all other terms 1, a sequence of $k>0$ consecutive 0's can be placed in $21-k$ locations. That is, there are 20 strings with 1 zero, 19 strings with 2 consecutive zeros, 18 strings with 3 consecutive zeros, ..., 1 string with 20 consecutive zeros. Hence there are $20+19+\\\\cdots+1=\\\\binom{21}{2}$ strings with consecutive zeros. The same argument shows there are $\\\\binom{21}{2}$ strings with consecutive 1's. This yields $2\\\\binom{21}{2}$ strings in all. However, we have counted twice those strings in which all the 1's and all the 0's are consecutive. These are the cases $01111...$ , $00111...$ , $000111...$ , ..., $000...0001$ (of which there are 19) as well as the cases $10000...$ , $11000...$ , $111000...$ , ..., $111...110$ (of which there are 19 as well). This yields $2\\\\binom{21}{2}-2\\\\cdot19=\\\\boxed{\\\\textbf{(E)}\\\\ 382}$  First, we think of ways to make all the $1$ 's consecutive. If there are no consecutive $1$ 's, there are $\\\\binom{20}{0}$ ways to order them. If there is one consecutive $1$ , there are $\\\\binom{20}{1}$ ways to order them. If there are two consecutive $1$ 's, then there are $\\\\binom{19}{1}$ ways to order them (We treat the two $1$ 's like a block, and then order that block with 18 other $0$ 's). Continuing in this fashion, there are $\\\\binom{20}{0} + \\\\binom{20}{1} + \\\\binom{19}{1} + \\\\cdots + \\\\binom{1}{1} = 1 + 20 + 19 + \\\\cdots + 2 + 1 = 210 + 1 = 211$ ways to order consecutive $1$ 's. From symmetry, there are also $211$ ways to order the $0$ 's. Now, from PIE, we subtract out the cases where both the $1$ 's and the $0$ 's are consecutive. We do this because when counting the ways to order the $1$ 's, we counted all of these cases once. Then, we did so again when ordering the $0$ 's. So, to only have all of these cases once, we must subtract them. If $1$ is the leftmost digit, then there are $20$ cases where all the $1$ 's and $0$ 's are consecutive (we basically are choosing how many $1$ 's are consecutive, and there are $20$ possibilities. All other digits become $0$ , which are automatically consecutive since the $1$ 's are consecutive. There are also $20$ cases when $0$ is the left-most digit. Thus, there are a total of $211 + 211 - 20 - 20 = \\\\boxed{\\\\textbf{(E)}\\\\ 382}$ . But, from the way the problem is worded, it somewhat implies that the orderings must include both $1$ 's and $0$ 's, so the answer would then be $\\\\boxed{\\\\textbf{(D)}\\\\ 380}$ after we subtract out the cases where the orderings are either all $1$ 's or all $0$ 's. But, since this is unclear, MAA accepted both $\\\\boxed{\\\\textbf{(D}\\\\ 380}$ and $\\\\boxed{\\\\textbf{(E)}\\\\ 382}$ as acceptable answers.  Solution 4 We consider two cases, and subtract their overcount. Case $1$ : Consecutive $0$ s If we have one consecutive $0$ , then we have $20$ ways.\\nIf we have two consecutive $0$ s, then we have $19$ ways by thinking of the two consecutives as a block.\\nContinuing this pattern, if we have twenty consecutive $0$ s, then we have only $1$ way. Therefore, we have $20+19+\\\\cdots+1=\\\\binom{21}{2}$ ways for this case. Case $2$ : Consecutive $1$ s Notice that if we just swap every $0$ to a $1$ in the previous case, we also have a valid arrangement.\\nHence, we also have $20+19+\\\\cdots+1=\\\\binom{21}{2}$ ways for this case. Overcount: \\nNotice that we can have BOTH the $0$ s and the $1$ s be consecutive. These are the cases $01111...$ , $00111...$ , $000111...$ , ..., $000...0000$ which gives us $20$ ways being overcounted. If we invert the $0$ s to $1$ s, we similarly have $20$ more ways, hence we need to subtract $40$ from our total count. (Note: this method of overcounting subtracts out the all $0$ s and the all $1$ s case since the problem implies that there needs to be at least one of each) So we have $210 + 210 - 40 = 380$ ways which gives us $\\\\boxed{\\\\textbf{(D)}\\\\ 380}$ . ~xHypotenuse \"}\n"
     ]
    }
   ],
   "source": [
    "query_vector = model.encode('n this solution we refer to moving to the left as decreasing the year or date number and moving to the right as' +  \n",
    "                            'increasing the year or date number. Every non-leap year we move to the right results in moving one day to' + \n",
    "                            'the right because $365\\equiv 1\\pmod 7$. Every leap year we move to the right results in moving $2$' +  \n",
    "                            'days to the right since $366\\equiv 2\\pmod 7$. A leap year is usually every four years, so 200 years' +  \n",
    "                            'would have $\\frac{200}{4}$ = $50$ leap years, but the problem says that 1900 does not count as a leap year.')\n",
    "\n",
    "results = existing_collection.find(\n",
    "    sort={\"$vector\": query_vector},\n",
    "    limit=10,\n",
    ")\n",
    "print(\"Vector search results:\")\n",
    "for i, document in enumerate(results):\n",
    "    print(str(i) + \": \" + str(document))"
   ]
  },
  {
   "cell_type": "code",
   "execution_count": 34,
   "metadata": {},
   "outputs": [
    {
     "name": "stdout",
     "output_type": "stream",
     "text": [
      "100\n",
      "https://07a3dcb1-38b6-4c2d-a8df-bf068a0e2a8e-us-east-2.apps.astra.datastax.com/api/json/v1/default-keyspace/collections/amc_similarity_with_link/info\n",
      "Failed to get collection information. Status code: 400, Error: <html>\n",
      "<head><title>400 Bad Request</title></head>\n",
      "<body>\n",
      "<center><h1>400 Bad Request</h1></center>\n",
      "<hr><center>nginx/1.21.4</center>\n",
      "</body>\n",
      "</html>\n",
      "\n"
     ]
    }
   ],
   "source": [
    "import requests\n",
    "import json\n",
    "\n",
    "existing_collection = database.get_collection('amc_similarity_with_link')\n",
    "print(existing_collection.estimated_document_count())\n",
    "namespace = 'default-keyspace'\n",
    "collection_name = 'amc_similarity_with_link'\n",
    "base_url = os.getenv('ASTRA_DB_API_ENDPOINT') + '/api/json/v1/' + namespace + '/collections/' + collection_name\n",
    "\n",
    "\n",
    "headers = {\n",
    "    'X-Cassandra Token': os.getenv('ASTRA_DB_APPLICATION_TOKEN'),\n",
    "    'Content-Type': 'application/json',\n",
    "    'Accept': 'application/json'\n",
    "}\n",
    "info_url = base_url + '/info'\n",
    "print(info_url)\n",
    "\n",
    "response = requests.get(info_url, headers=headers)\n",
    "\n",
    "if response.status_code == 200:\n",
    "    collection_info = response.json()\n",
    "    print(\"collection information:\", json.dumps(collection_info, indent=2))\n",
    "    if 'length' in collection_info:\n",
    "        print('Collection Length:', collection_info['length'])\n",
    "    else:\n",
    "        print('length is not available')\n",
    "else:\n",
    "    print(f'Failed to get collection information. Status code: {response.status_code}, Error: {response.text}')\n"
   ]
  }
 ],
 "metadata": {
  "kernelspec": {
   "display_name": ".venv",
   "language": "python",
   "name": "python3"
  },
  "language_info": {
   "codemirror_mode": {
    "name": "ipython",
    "version": 3
   },
   "file_extension": ".py",
   "mimetype": "text/x-python",
   "name": "python",
   "nbconvert_exporter": "python",
   "pygments_lexer": "ipython3",
   "version": "3.10.11"
  }
 },
 "nbformat": 4,
 "nbformat_minor": 2
}
